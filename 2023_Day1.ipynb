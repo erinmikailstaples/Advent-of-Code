{
 "cells": [
  {
   "cell_type": "markdown",
   "metadata": {},
   "source": [
    "# Trying proof of concept with a sample\n",
    "\n",
    "1abc2\n",
    "pqr3stu8vwx\n",
    "a1b2c3d4e5f\n",
    "treb7uchet\n"
   ]
  },
  {
   "cell_type": "code",
   "execution_count": 2,
   "metadata": {},
   "outputs": [
    {
     "name": "stdout",
     "output_type": "stream",
     "text": [
      "1abc2\n",
      "\n",
      "pqr3stu8vwx\n",
      "\n",
      "a1b2c3d4e5f\n",
      "\n",
      "treb7uchet\n"
     ]
    }
   ],
   "source": [
    "file = open ('sample.txt', 'r')\n",
    "\n",
    "\n",
    "for line in file: \n",
    "    print(line)"
   ]
  },
  {
   "cell_type": "markdown",
   "metadata": {},
   "source": [
    "Getting the first digits"
   ]
  },
  {
   "cell_type": "code",
   "execution_count": 20,
   "metadata": {},
   "outputs": [
    {
     "name": "stdout",
     "output_type": "stream",
     "text": [
      "1 2\n",
      "3 8\n",
      "1 5\n",
      "7 7\n"
     ]
    }
   ],
   "source": [
    "file = open ('sample.txt', 'r')\n",
    "\n",
    "\n",
    "for line in file:\n",
    "    firstdigit = None\n",
    "    lastdigit = None\n",
    "    for character in line:\n",
    "        if character.isdigit():\n",
    "            firstdigit = character\n",
    "            break\n",
    "    for character in reversed(line):\n",
    "        if character.isdigit():\n",
    "            lastdigit = character\n",
    "            break\n",
    "    print(firstdigit, lastdigit)\n",
    "    "
   ]
  },
  {
   "cell_type": "markdown",
   "metadata": {},
   "source": []
  },
  {
   "cell_type": "code",
   "execution_count": 24,
   "metadata": {},
   "outputs": [
    {
     "name": "stdout",
     "output_type": "stream",
     "text": [
      "12\n",
      "38\n",
      "15\n",
      "77\n"
     ]
    }
   ],
   "source": [
    "file = open ('sample.txt', 'r')\n",
    "\n",
    "for line in file:\n",
    "    firstdigit = None\n",
    "    lastdigit = None\n",
    "    for character in line:\n",
    "        if character.isdigit():\n",
    "            firstdigit = character\n",
    "            break\n",
    "    for character in reversed(line):\n",
    "        if character.isdigit():\n",
    "            lastdigit = character\n",
    "            break\n",
    "    finaldigit = firstdigit + lastdigit\n",
    "    print(finaldigit)\n"
   ]
  },
  {
   "cell_type": "markdown",
   "metadata": {},
   "source": [
    "Add these items together. "
   ]
  },
  {
   "cell_type": "code",
   "execution_count": 33,
   "metadata": {},
   "outputs": [
    {
     "name": "stdout",
     "output_type": "stream",
     "text": [
      "12\n",
      "50\n",
      "65\n",
      "142\n"
     ]
    }
   ],
   "source": [
    "file = open ('sample.txt', 'r')\n",
    "sum = 0\n",
    "\n",
    "for line in file:\n",
    "    firstdigit = None\n",
    "    lastdigit = None\n",
    "    for character in line:\n",
    "        if character.isdigit():\n",
    "            firstdigit = character\n",
    "            break\n",
    "    for character in reversed(line):\n",
    "        if character.isdigit():\n",
    "            lastdigit = character\n",
    "            break\n",
    "    finaldigit = firstdigit + lastdigit\n",
    "    # print(finaldigit)\n",
    "    sum = sum + int(finaldigit)\n",
    "    print(sum)\n"
   ]
  },
  {
   "cell_type": "code",
   "execution_count": 35,
   "metadata": {},
   "outputs": [
    {
     "name": "stdout",
     "output_type": "stream",
     "text": [
      "54953\n"
     ]
    }
   ],
   "source": [
    "file = open ('day1_sample.txt', 'r')\n",
    "sum = 0\n",
    "\n",
    "for line in file:\n",
    "    firstdigit = None\n",
    "    lastdigit = None\n",
    "    for character in line:\n",
    "        if character.isdigit():\n",
    "            firstdigit = character\n",
    "            break\n",
    "    for character in reversed(line):\n",
    "        if character.isdigit():\n",
    "            lastdigit = character\n",
    "            break\n",
    "    finaldigit = firstdigit + lastdigit\n",
    "    # print(finaldigit)\n",
    "    sum = sum + int(finaldigit)\n",
    "\n",
    "print(sum)\n"
   ]
  },
  {
   "cell_type": "markdown",
   "metadata": {},
   "source": [
    "Now, we realized that we actually have numbers spelt out and need to get those. \n",
    "    "
   ]
  },
  {
   "cell_type": "code",
   "execution_count": 62,
   "metadata": {},
   "outputs": [
    {
     "name": "stdout",
     "output_type": "stream",
     "text": [
      "219\n",
      "\n",
      "99\n",
      "eigh23\n",
      "\n",
      "33\n",
      "abc123xyz\n",
      "\n",
      "33\n",
      "xtw134\n",
      "\n",
      "44\n",
      "49872\n",
      "\n",
      "22\n",
      "z1ight234\n",
      "\n",
      "44\n",
      "7pqrst6teen\n",
      "66\n"
     ]
    }
   ],
   "source": [
    "file = open ('day1_example2.txt', 'r')\n",
    "sum = 0\n",
    "\n",
    "for line in file:\n",
    "    firstdigit = None\n",
    "    lastdigit = None\n",
    "    line=line.replace(\"one\",\"1\")\n",
    "    line=line.replace(\"two\",\"2\")\n",
    "    line=line.replace(\"three\",\"3\")\n",
    "    line=line.replace(\"four\",\"4\")\n",
    "    line=line.replace(\"five\",\"5\")\n",
    "    line=line.replace(\"six\",\"6\")\n",
    "    line=line.replace(\"seven\",\"7\")\n",
    "    line=line.replace(\"eight\",\"8\")\n",
    "    line=line.replace(\"nine\",\"9\")\n",
    "    print(line)\n",
    "    for character in line:\n",
    "        if character.isdigit():\n",
    "            firstdigit = character\n",
    "    for character in reversed(line):\n",
    "        if character.isdigit():\n",
    "            lastdigit = character\n",
    "            break\n",
    "    finaldigit = firstdigit + lastdigit\n",
    "    print(finaldigit)\n",
    "    sum = sum + int(finaldigit)\n",
    "\n",
    "\n"
   ]
  },
  {
   "cell_type": "markdown",
   "metadata": {},
   "source": [
    "gah dang it these file overlaps names overlaps!!!!! "
   ]
  },
  {
   "cell_type": "code",
   "execution_count": 85,
   "metadata": {},
   "outputs": [
    {
     "name": "stdout",
     "output_type": "stream",
     "text": [
      "53868\n"
     ]
    }
   ],
   "source": [
    "file = open ('day1_sample.txt', 'r')\n",
    "sum = 0\n",
    "\n",
    "for line in file:\n",
    "    firstdigit = None\n",
    "    lastdigit = None\n",
    "    line=line.replace(\"one\",\"o1e\")\n",
    "    line=line.replace(\"two\",\"t2o\")\n",
    "    line=line.replace(\"three\",\"t3e\")\n",
    "    line=line.replace(\"four\",\"4\")\n",
    "    line=line.replace(\"five\",\"5e\")\n",
    "    line=line.replace(\"six\",\"s6x\")\n",
    "    line=line.replace(\"seven\",\"7n\")\n",
    "    line=line.replace(\"eight\",\"e8t\")\n",
    "    line=line.replace(\"nine\",\"n9e\")\n",
    "    \n",
    "    for character in line:\n",
    "        if character.isdigit():\n",
    "            firstdigit = character\n",
    "            break\n",
    "    for character in reversed(line):\n",
    "        if character.isdigit():\n",
    "            lastdigit = character\n",
    "            break\n",
    "    finaldigit = firstdigit + lastdigit\n",
    "    sum = sum + int(finaldigit)\n",
    "    \n",
    "print(sum)"
   ]
  }
 ],
 "metadata": {
  "kernelspec": {
   "display_name": "Python 3",
   "language": "python",
   "name": "python3"
  },
  "language_info": {
   "codemirror_mode": {
    "name": "ipython",
    "version": 3
   },
   "file_extension": ".py",
   "mimetype": "text/x-python",
   "name": "python",
   "nbconvert_exporter": "python",
   "pygments_lexer": "ipython3",
   "version": "3.11.5"
  }
 },
 "nbformat": 4,
 "nbformat_minor": 2
}
